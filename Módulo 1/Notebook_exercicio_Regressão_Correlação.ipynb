{
  "nbformat": 4,
  "nbformat_minor": 0,
  "metadata": {
    "colab": {
      "name": "Notebook_exercicio_Regressão-Correlação.ipynb",
      "provenance": []
    },
    "kernelspec": {
      "name": "python3",
      "display_name": "Python 3"
    }
  },
  "cells": [
    {
      "cell_type": "markdown",
      "metadata": {
        "id": "ckJ57Wie_q3G"
      },
      "source": [
        "# **Importando as blibiotecas.**"
      ]
    },
    {
      "cell_type": "code",
      "metadata": {
        "id": "fZCWHKxG_f3d"
      },
      "source": [
        "import numpy as np\n",
        "from sklearn import datasets, linear_model\n",
        "import matplotlib.pyplot as plt\n",
        "from sklearn.metrics import mean_squared_error, r2_score"
      ],
      "execution_count": 2,
      "outputs": []
    },
    {
      "cell_type": "markdown",
      "metadata": {
        "id": "FgVDbL75Ad0z"
      },
      "source": [
        "# **Dados para o test.**"
      ]
    },
    {
      "cell_type": "code",
      "metadata": {
        "id": "VCP_dlvPAarn",
        "outputId": "4bb0add2-b48c-4a65-d2b1-3635ee1ce364",
        "colab": {
          "base_uri": "https://localhost:8080/",
          "height": 265
        }
      },
      "source": [
        "Receita = np.array([2,15,25,35,45,55,65,75,80,85,32,62,2,15,25,35,45,55,65,75,80,85,32,62])\n",
        "Preco = np.array([10,20,14,32,22,38,41,52,55,61,21,44,10,20,14,32,22,38,41,52,55,61,21,44])\n",
        "\n",
        "plt.scatter(Receita,Preco, color='black')\n",
        "plt.show;"
      ],
      "execution_count": 6,
      "outputs": [
        {
          "output_type": "display_data",
          "data": {
            "image/png": "[encoded data removed]",
            "text/plain": [
              "<Figure size 432x288 with 1 Axes>"
            ]
          },
          "metadata": {
            "tags": [],
            "needs_background": "light"
          }
        }
      ]
    },
    {
      "cell_type": "markdown",
      "metadata": {
        "id": "PLD0M7_-B_b1"
      },
      "source": [
        "# **Usando a regressão.**"
      ]
    },
    {
      "cell_type": "code",
      "metadata": {
        "id": "bvFWMFpXB-sn",
        "outputId": "03b58009-787f-4b01-dd5e-c325dfbb9575",
        "colab": {
          "base_uri": "https://localhost:8080/",
          "height": 332
        }
      },
      "source": [
        "regr = linear_model.LinearRegression()\n",
        "regr.fit(Receita.reshape(-1,1),Preco)\n",
        "y = regr.predict(Receita.reshape(-1,1))\n",
        "\n",
        "print('Coefficients: \\n', regr.coef_)\n",
        "print('Intercept: \\n', regr.intercept_)\n",
        "\n",
        "plt.scatter(Receita,Preco, color='black')\n",
        "plt.plot(Receita, y, color='red', linewidth=2);"
      ],
      "execution_count": 16,
      "outputs": [
        {
          "output_type": "stream",
          "text": [
            "Coefficients: \n",
            " [0.60582822]\n",
            "Intercept: \n",
            " 5.08691206543967\n"
          ],
          "name": "stdout"
        },
        {
          "output_type": "display_data",
          "data": {
            "image/png": "[encoded data removed]",
            "text/plain": [
              "<Figure size 432x288 with 1 Axes>"
            ]
          },
          "metadata": {
            "tags": [],
            "needs_background": "light"
          }
        }
      ]
    },
    {
      "cell_type": "code",
      "metadata": {
        "id": "wtzqjlo7s7WX"
      },
      "source": [
        ""
      ],
      "execution_count": null,
      "outputs": []
    }
  ]
}